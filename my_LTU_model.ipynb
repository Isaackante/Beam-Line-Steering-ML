{
 "cells": [
  {
   "cell_type": "code",
   "execution_count": 1,
   "id": "d198ab16-97eb-4aa9-9032-b0dab4ac28ec",
   "metadata": {
    "tags": []
   },
   "outputs": [],
   "source": [
    "import torch\n",
    "import torchvision\n",
    "import numpy as np\n",
    "import matplotlib.pyplot as plt\n",
    "import torch.nn as nn\n",
    "from torch.nn.modules import dropout\n",
    "import torch.nn.functional as F\n",
    "import torch.optim as optim \n",
    "import optuna\n",
    "from torch.optim.lr_scheduler import ReduceLROnPlateau \n",
    "from torchvision.transforms import ToTensor\n",
    "from torch.utils.data.dataloader import DataLoader\n",
    "from torch.utils.data import random_split, TensorDataset\n",
    "import seaborn as sns\n",
    "from sklearn.preprocessing import MinMaxScaler\n",
    "import json\n",
    "import pandas as pd\n",
    "from sklearn.metrics import mean_absolute_error, mean_squared_error\n",
    "import json\n",
    "import joblib\n",
    "from multiprocessing import Pool"
   ]
  },
  {
   "cell_type": "code",
   "execution_count": 2,
   "id": "0c23527c-6bfa-445e-b937-a95daaf47224",
   "metadata": {
    "tags": []
   },
   "outputs": [
    {
     "name": "stdout",
     "output_type": "stream",
     "text": [
      "Dataframe length: 1697935\n"
     ]
    }
   ],
   "source": [
    "jsonFile = \"/Users/isaackante/Downloads/pvs_2021-03-02_to_2022-11-30.csv\"\n",
    "\n",
    "with open(jsonFile, 'r') as fileData:\n",
    "    jsonData = json.load(fileData)\n",
    "\n",
    "fullDF = pd.DataFrame(jsonData)\n",
    "print(f\"Dataframe length: {len(fullDF)}\")"
   ]
  },
  {
   "cell_type": "code",
   "execution_count": 3,
   "id": "33effa64-e404-41d4-9600-371ebd99b539",
   "metadata": {},
   "outputs": [
    {
     "data": {
      "text/html": [
       "<div>\n",
       "<style scoped>\n",
       "    .dataframe tbody tr th:only-of-type {\n",
       "        vertical-align: middle;\n",
       "    }\n",
       "\n",
       "    .dataframe tbody tr th {\n",
       "        vertical-align: top;\n",
       "    }\n",
       "\n",
       "    .dataframe thead th {\n",
       "        text-align: right;\n",
       "    }\n",
       "</style>\n",
       "<table border=\"1\" class=\"dataframe\">\n",
       "  <thead>\n",
       "    <tr style=\"text-align: right;\">\n",
       "      <th></th>\n",
       "      <th>XCOR:LTUS:118:BACT</th>\n",
       "      <th>XCOR:LTUS:148:BACT</th>\n",
       "      <th>XCOR:LTUS:228:BACT</th>\n",
       "      <th>XCOR:LTUS:296:BACT</th>\n",
       "      <th>XCOR:LTUS:368:BACT</th>\n",
       "      <th>XCOR:LTUS:448:BACT</th>\n",
       "      <th>XCOR:LTUS:508:BACT</th>\n",
       "      <th>XCOR:LTUS:548:BACT</th>\n",
       "      <th>XCOR:LTUS:568:BACT</th>\n",
       "      <th>XCOR:LTUS:616:BACT</th>\n",
       "      <th>...</th>\n",
       "      <th>BPMS:LTUS:620:Y1H</th>\n",
       "      <th>BPMS:LTUS:640:Y1H</th>\n",
       "      <th>BPMS:LTUS:660:Y1H</th>\n",
       "      <th>BPMS:LTUS:680:Y1H</th>\n",
       "      <th>BPMS:LTUS:740:Y1H</th>\n",
       "      <th>BPMS:LTUS:750:Y1H</th>\n",
       "      <th>BPMS:LTUS:820:Y1H</th>\n",
       "      <th>BPMS:LTUS:840:Y1H</th>\n",
       "      <th>BPMS:LTUS:860:Y1H</th>\n",
       "      <th>BPMS:LTUS:880:Y1H</th>\n",
       "    </tr>\n",
       "  </thead>\n",
       "  <tbody>\n",
       "    <tr>\n",
       "      <th>1614686781000</th>\n",
       "      <td>-0.005894</td>\n",
       "      <td>0.010674</td>\n",
       "      <td>0.015187</td>\n",
       "      <td>0.003056</td>\n",
       "      <td>0.020692</td>\n",
       "      <td>-0.000383</td>\n",
       "      <td>0.010843</td>\n",
       "      <td>-0.011724</td>\n",
       "      <td>0.007895</td>\n",
       "      <td>0.003348</td>\n",
       "      <td>...</td>\n",
       "      <td>0.081574</td>\n",
       "      <td>-0.388519</td>\n",
       "      <td>0.024542</td>\n",
       "      <td>0.123215</td>\n",
       "      <td>0.255312</td>\n",
       "      <td>-0.029176</td>\n",
       "      <td>-0.754132</td>\n",
       "      <td>-0.920574</td>\n",
       "      <td>-1.065490</td>\n",
       "      <td>-1.381211</td>\n",
       "    </tr>\n",
       "    <tr>\n",
       "      <th>1614686792000</th>\n",
       "      <td>-0.005894</td>\n",
       "      <td>0.010675</td>\n",
       "      <td>0.015186</td>\n",
       "      <td>0.003055</td>\n",
       "      <td>0.020692</td>\n",
       "      <td>-0.000383</td>\n",
       "      <td>0.010731</td>\n",
       "      <td>-0.011777</td>\n",
       "      <td>0.007895</td>\n",
       "      <td>0.003347</td>\n",
       "      <td>...</td>\n",
       "      <td>0.069327</td>\n",
       "      <td>-0.424184</td>\n",
       "      <td>0.009931</td>\n",
       "      <td>0.113676</td>\n",
       "      <td>0.264643</td>\n",
       "      <td>-0.012710</td>\n",
       "      <td>-0.739264</td>\n",
       "      <td>-0.908223</td>\n",
       "      <td>-1.051875</td>\n",
       "      <td>-1.367935</td>\n",
       "    </tr>\n",
       "    <tr>\n",
       "      <th>1614686793000</th>\n",
       "      <td>-0.005894</td>\n",
       "      <td>0.010675</td>\n",
       "      <td>0.015186</td>\n",
       "      <td>0.003055</td>\n",
       "      <td>0.020691</td>\n",
       "      <td>-0.000383</td>\n",
       "      <td>0.010739</td>\n",
       "      <td>-0.011672</td>\n",
       "      <td>0.007896</td>\n",
       "      <td>0.003348</td>\n",
       "      <td>...</td>\n",
       "      <td>0.092214</td>\n",
       "      <td>-0.371535</td>\n",
       "      <td>0.029579</td>\n",
       "      <td>0.125250</td>\n",
       "      <td>0.249571</td>\n",
       "      <td>-0.043525</td>\n",
       "      <td>-0.757154</td>\n",
       "      <td>-0.919364</td>\n",
       "      <td>-1.068223</td>\n",
       "      <td>-1.380300</td>\n",
       "    </tr>\n",
       "    <tr>\n",
       "      <th>1614686794000</th>\n",
       "      <td>-0.005894</td>\n",
       "      <td>0.010675</td>\n",
       "      <td>0.015186</td>\n",
       "      <td>0.003056</td>\n",
       "      <td>0.020693</td>\n",
       "      <td>-0.000382</td>\n",
       "      <td>0.010748</td>\n",
       "      <td>-0.011836</td>\n",
       "      <td>0.007896</td>\n",
       "      <td>0.003348</td>\n",
       "      <td>...</td>\n",
       "      <td>0.085862</td>\n",
       "      <td>-0.382025</td>\n",
       "      <td>0.028701</td>\n",
       "      <td>0.125641</td>\n",
       "      <td>0.254153</td>\n",
       "      <td>-0.041541</td>\n",
       "      <td>-0.763009</td>\n",
       "      <td>-0.927409</td>\n",
       "      <td>-1.072004</td>\n",
       "      <td>-1.390729</td>\n",
       "    </tr>\n",
       "    <tr>\n",
       "      <th>1614686795000</th>\n",
       "      <td>-0.005894</td>\n",
       "      <td>0.010674</td>\n",
       "      <td>0.015186</td>\n",
       "      <td>0.003056</td>\n",
       "      <td>0.020694</td>\n",
       "      <td>-0.000383</td>\n",
       "      <td>0.010756</td>\n",
       "      <td>-0.011695</td>\n",
       "      <td>0.007895</td>\n",
       "      <td>0.003349</td>\n",
       "      <td>...</td>\n",
       "      <td>0.086317</td>\n",
       "      <td>-0.377257</td>\n",
       "      <td>0.030934</td>\n",
       "      <td>0.126694</td>\n",
       "      <td>0.255299</td>\n",
       "      <td>-0.035130</td>\n",
       "      <td>-0.771315</td>\n",
       "      <td>-0.937547</td>\n",
       "      <td>-1.083597</td>\n",
       "      <td>-1.400562</td>\n",
       "    </tr>\n",
       "    <tr>\n",
       "      <th>...</th>\n",
       "      <td>...</td>\n",
       "      <td>...</td>\n",
       "      <td>...</td>\n",
       "      <td>...</td>\n",
       "      <td>...</td>\n",
       "      <td>...</td>\n",
       "      <td>...</td>\n",
       "      <td>...</td>\n",
       "      <td>...</td>\n",
       "      <td>...</td>\n",
       "      <td>...</td>\n",
       "      <td>...</td>\n",
       "      <td>...</td>\n",
       "      <td>...</td>\n",
       "      <td>...</td>\n",
       "      <td>...</td>\n",
       "      <td>...</td>\n",
       "      <td>...</td>\n",
       "      <td>...</td>\n",
       "      <td>...</td>\n",
       "      <td>...</td>\n",
       "    </tr>\n",
       "    <tr>\n",
       "      <th>1668755362000</th>\n",
       "      <td>-0.006696</td>\n",
       "      <td>0.007762</td>\n",
       "      <td>0.012248</td>\n",
       "      <td>0.019892</td>\n",
       "      <td>0.018911</td>\n",
       "      <td>-0.000121</td>\n",
       "      <td>0.010442</td>\n",
       "      <td>0.001622</td>\n",
       "      <td>0.000568</td>\n",
       "      <td>0.010471</td>\n",
       "      <td>...</td>\n",
       "      <td>0.261482</td>\n",
       "      <td>0.316519</td>\n",
       "      <td>0.410203</td>\n",
       "      <td>0.453788</td>\n",
       "      <td>0.292541</td>\n",
       "      <td>-0.555982</td>\n",
       "      <td>0.242697</td>\n",
       "      <td>0.125239</td>\n",
       "      <td>0.083574</td>\n",
       "      <td>-0.184363</td>\n",
       "    </tr>\n",
       "    <tr>\n",
       "      <th>1668755363000</th>\n",
       "      <td>-0.006695</td>\n",
       "      <td>0.007763</td>\n",
       "      <td>0.012248</td>\n",
       "      <td>0.019891</td>\n",
       "      <td>0.018910</td>\n",
       "      <td>-0.000119</td>\n",
       "      <td>0.010452</td>\n",
       "      <td>0.001470</td>\n",
       "      <td>0.000567</td>\n",
       "      <td>0.010471</td>\n",
       "      <td>...</td>\n",
       "      <td>0.254319</td>\n",
       "      <td>0.291053</td>\n",
       "      <td>0.390684</td>\n",
       "      <td>0.438549</td>\n",
       "      <td>0.295928</td>\n",
       "      <td>-0.526931</td>\n",
       "      <td>0.269874</td>\n",
       "      <td>0.157057</td>\n",
       "      <td>0.104409</td>\n",
       "      <td>-0.160754</td>\n",
       "    </tr>\n",
       "    <tr>\n",
       "      <th>1668755364000</th>\n",
       "      <td>-0.006694</td>\n",
       "      <td>0.007763</td>\n",
       "      <td>0.012248</td>\n",
       "      <td>0.019891</td>\n",
       "      <td>0.018910</td>\n",
       "      <td>-0.000120</td>\n",
       "      <td>0.010462</td>\n",
       "      <td>0.001297</td>\n",
       "      <td>0.000568</td>\n",
       "      <td>0.010472</td>\n",
       "      <td>...</td>\n",
       "      <td>0.263715</td>\n",
       "      <td>0.309573</td>\n",
       "      <td>0.410216</td>\n",
       "      <td>0.453933</td>\n",
       "      <td>0.281019</td>\n",
       "      <td>-0.561139</td>\n",
       "      <td>0.242024</td>\n",
       "      <td>0.129347</td>\n",
       "      <td>0.089619</td>\n",
       "      <td>-0.174837</td>\n",
       "    </tr>\n",
       "    <tr>\n",
       "      <th>1668755365000</th>\n",
       "      <td>-0.006695</td>\n",
       "      <td>0.007762</td>\n",
       "      <td>0.012248</td>\n",
       "      <td>0.019892</td>\n",
       "      <td>0.018910</td>\n",
       "      <td>-0.000120</td>\n",
       "      <td>0.010472</td>\n",
       "      <td>0.001285</td>\n",
       "      <td>0.000567</td>\n",
       "      <td>0.010471</td>\n",
       "      <td>...</td>\n",
       "      <td>0.270974</td>\n",
       "      <td>0.354164</td>\n",
       "      <td>0.423908</td>\n",
       "      <td>0.476336</td>\n",
       "      <td>0.239657</td>\n",
       "      <td>-0.599715</td>\n",
       "      <td>0.199322</td>\n",
       "      <td>0.093584</td>\n",
       "      <td>0.070586</td>\n",
       "      <td>-0.201175</td>\n",
       "    </tr>\n",
       "    <tr>\n",
       "      <th>1668755366000</th>\n",
       "      <td>-0.006695</td>\n",
       "      <td>0.007762</td>\n",
       "      <td>0.012248</td>\n",
       "      <td>0.019892</td>\n",
       "      <td>0.018910</td>\n",
       "      <td>-0.000120</td>\n",
       "      <td>0.010482</td>\n",
       "      <td>0.001305</td>\n",
       "      <td>0.000567</td>\n",
       "      <td>0.010471</td>\n",
       "      <td>...</td>\n",
       "      <td>0.282954</td>\n",
       "      <td>0.364919</td>\n",
       "      <td>0.432718</td>\n",
       "      <td>0.480384</td>\n",
       "      <td>0.215915</td>\n",
       "      <td>-0.625940</td>\n",
       "      <td>0.182377</td>\n",
       "      <td>0.077826</td>\n",
       "      <td>0.058598</td>\n",
       "      <td>-0.207973</td>\n",
       "    </tr>\n",
       "  </tbody>\n",
       "</table>\n",
       "<p>1697935 rows × 123 columns</p>\n",
       "</div>"
      ],
      "text/plain": [
       "               XCOR:LTUS:118:BACT  XCOR:LTUS:148:BACT  XCOR:LTUS:228:BACT  \\\n",
       "1614686781000           -0.005894            0.010674            0.015187   \n",
       "1614686792000           -0.005894            0.010675            0.015186   \n",
       "1614686793000           -0.005894            0.010675            0.015186   \n",
       "1614686794000           -0.005894            0.010675            0.015186   \n",
       "1614686795000           -0.005894            0.010674            0.015186   \n",
       "...                           ...                 ...                 ...   \n",
       "1668755362000           -0.006696            0.007762            0.012248   \n",
       "1668755363000           -0.006695            0.007763            0.012248   \n",
       "1668755364000           -0.006694            0.007763            0.012248   \n",
       "1668755365000           -0.006695            0.007762            0.012248   \n",
       "1668755366000           -0.006695            0.007762            0.012248   \n",
       "\n",
       "               XCOR:LTUS:296:BACT  XCOR:LTUS:368:BACT  XCOR:LTUS:448:BACT  \\\n",
       "1614686781000            0.003056            0.020692           -0.000383   \n",
       "1614686792000            0.003055            0.020692           -0.000383   \n",
       "1614686793000            0.003055            0.020691           -0.000383   \n",
       "1614686794000            0.003056            0.020693           -0.000382   \n",
       "1614686795000            0.003056            0.020694           -0.000383   \n",
       "...                           ...                 ...                 ...   \n",
       "1668755362000            0.019892            0.018911           -0.000121   \n",
       "1668755363000            0.019891            0.018910           -0.000119   \n",
       "1668755364000            0.019891            0.018910           -0.000120   \n",
       "1668755365000            0.019892            0.018910           -0.000120   \n",
       "1668755366000            0.019892            0.018910           -0.000120   \n",
       "\n",
       "               XCOR:LTUS:508:BACT  XCOR:LTUS:548:BACT  XCOR:LTUS:568:BACT  \\\n",
       "1614686781000            0.010843           -0.011724            0.007895   \n",
       "1614686792000            0.010731           -0.011777            0.007895   \n",
       "1614686793000            0.010739           -0.011672            0.007896   \n",
       "1614686794000            0.010748           -0.011836            0.007896   \n",
       "1614686795000            0.010756           -0.011695            0.007895   \n",
       "...                           ...                 ...                 ...   \n",
       "1668755362000            0.010442            0.001622            0.000568   \n",
       "1668755363000            0.010452            0.001470            0.000567   \n",
       "1668755364000            0.010462            0.001297            0.000568   \n",
       "1668755365000            0.010472            0.001285            0.000567   \n",
       "1668755366000            0.010482            0.001305            0.000567   \n",
       "\n",
       "               XCOR:LTUS:616:BACT  ...  BPMS:LTUS:620:Y1H  BPMS:LTUS:640:Y1H  \\\n",
       "1614686781000            0.003348  ...           0.081574          -0.388519   \n",
       "1614686792000            0.003347  ...           0.069327          -0.424184   \n",
       "1614686793000            0.003348  ...           0.092214          -0.371535   \n",
       "1614686794000            0.003348  ...           0.085862          -0.382025   \n",
       "1614686795000            0.003349  ...           0.086317          -0.377257   \n",
       "...                           ...  ...                ...                ...   \n",
       "1668755362000            0.010471  ...           0.261482           0.316519   \n",
       "1668755363000            0.010471  ...           0.254319           0.291053   \n",
       "1668755364000            0.010472  ...           0.263715           0.309573   \n",
       "1668755365000            0.010471  ...           0.270974           0.354164   \n",
       "1668755366000            0.010471  ...           0.282954           0.364919   \n",
       "\n",
       "               BPMS:LTUS:660:Y1H  BPMS:LTUS:680:Y1H  BPMS:LTUS:740:Y1H  \\\n",
       "1614686781000           0.024542           0.123215           0.255312   \n",
       "1614686792000           0.009931           0.113676           0.264643   \n",
       "1614686793000           0.029579           0.125250           0.249571   \n",
       "1614686794000           0.028701           0.125641           0.254153   \n",
       "1614686795000           0.030934           0.126694           0.255299   \n",
       "...                          ...                ...                ...   \n",
       "1668755362000           0.410203           0.453788           0.292541   \n",
       "1668755363000           0.390684           0.438549           0.295928   \n",
       "1668755364000           0.410216           0.453933           0.281019   \n",
       "1668755365000           0.423908           0.476336           0.239657   \n",
       "1668755366000           0.432718           0.480384           0.215915   \n",
       "\n",
       "               BPMS:LTUS:750:Y1H  BPMS:LTUS:820:Y1H  BPMS:LTUS:840:Y1H  \\\n",
       "1614686781000          -0.029176          -0.754132          -0.920574   \n",
       "1614686792000          -0.012710          -0.739264          -0.908223   \n",
       "1614686793000          -0.043525          -0.757154          -0.919364   \n",
       "1614686794000          -0.041541          -0.763009          -0.927409   \n",
       "1614686795000          -0.035130          -0.771315          -0.937547   \n",
       "...                          ...                ...                ...   \n",
       "1668755362000          -0.555982           0.242697           0.125239   \n",
       "1668755363000          -0.526931           0.269874           0.157057   \n",
       "1668755364000          -0.561139           0.242024           0.129347   \n",
       "1668755365000          -0.599715           0.199322           0.093584   \n",
       "1668755366000          -0.625940           0.182377           0.077826   \n",
       "\n",
       "               BPMS:LTUS:860:Y1H  BPMS:LTUS:880:Y1H  \n",
       "1614686781000          -1.065490          -1.381211  \n",
       "1614686792000          -1.051875          -1.367935  \n",
       "1614686793000          -1.068223          -1.380300  \n",
       "1614686794000          -1.072004          -1.390729  \n",
       "1614686795000          -1.083597          -1.400562  \n",
       "...                          ...                ...  \n",
       "1668755362000           0.083574          -0.184363  \n",
       "1668755363000           0.104409          -0.160754  \n",
       "1668755364000           0.089619          -0.174837  \n",
       "1668755365000           0.070586          -0.201175  \n",
       "1668755366000           0.058598          -0.207973  \n",
       "\n",
       "[1697935 rows x 123 columns]"
      ]
     },
     "execution_count": 3,
     "metadata": {},
     "output_type": "execute_result"
    }
   ],
   "source": [
    "fullDF"
   ]
  },
  {
   "cell_type": "code",
   "execution_count": 4,
   "id": "4febb28b-7905-4bb4-af80-4a8920e6edcc",
   "metadata": {
    "tags": []
   },
   "outputs": [
    {
     "data": {
      "text/plain": [
       "1697935"
      ]
     },
     "execution_count": 4,
     "metadata": {},
     "output_type": "execute_result"
    }
   ],
   "source": [
    "num_rows = fullDF.shape[0]\n",
    "num_rows"
   ]
  },
  {
   "cell_type": "code",
   "execution_count": 7,
   "id": "fc6f7d1b-22b1-492d-b070-9c4b9e1b47fc",
   "metadata": {},
   "outputs": [
    {
     "name": "stdout",
     "output_type": "stream",
     "text": [
      "Input PVs: 73\n",
      "Output PVs: 50\n"
     ]
    }
   ],
   "source": [
    "inputPvs = [ \"XCOR:LTUS:118:BACT\", \"XCOR:LTUS:148:BACT\", \"XCOR:LTUS:228:BACT\", \"XCOR:LTUS:296:BACT\", \"XCOR:LTUS:368:BACT\", \"XCOR:LTUS:448:BACT\", \"XCOR:LTUS:508:BACT\", \"XCOR:LTUS:548:BACT\", \"XCOR:LTUS:568:BACT\", \"XCOR:LTUS:616:BACT\", \"XCOR:LTUS:658:BACT\", \"XCOR:LTUS:718:BACT\", \"XCOR:LTUS:722:BACT\", \"XCOR:LTUS:738:BACT\", \"XCOR:LTUS:758:BACT\", \"XCOR:LTUS:768:BACT\", \"XCOR:LTUS:826:BACT\", \"XCOR:LTUS:858:BACT\", \"YCOR:LTUS:111:BACT\", \"YCOR:LTUS:183:BACT\", \"YCOR:LTUS:267:BACT\", \"YCOR:LTUS:341:BACT\", \"YCOR:LTUS:427:BACT\", \"YCOR:LTUS:471:BACT\", \"YCOR:LTUS:499:BACT\", \"YCOR:LTUS:547:BACT\", \"YCOR:LTUS:561:BACT\", \"YCOR:LTUS:577:BACT\", \"YCOR:LTUS:641:BACT\", \"YCOR:LTUS:677:BACT\", \"YCOR:LTUS:721:BACT\", \"YCOR:LTUS:729:BACT\", \"YCOR:LTUS:749:BACT\", \"YCOR:LTUS:767:BACT\", \"YCOR:LTUS:777:BACT\", \"YCOR:LTUS:839:BACT\", \"YCOR:LTUS:877:BACT\", \"QUAD:LTUS:110:BACT\", \"QUAD:LTUS:120:BACT\", \"QUAD:LTUS:150:BACT\", \"QUAD:LTUS:180:BACT\", \"QUAD:LTUS:235:BACT\", \"QUAD:LTUS:270:BACT\", \"QUAD:LTUS:300:BACT\", \"QUAD:LTUS:345:BACT\", \"QUAD:LTUS:370:BACT\", \"QUAD:LTUS:430:BACT\", \"QUAD:LTUS:450:BACT\", \"QUAD:LTUS:470:BACT\", \"QUAD:LTUS:500:BACT\", \"QUAD:LTUS:510:BACT\", \"QUAD:LTUS:540:BACT\", \"QUAD:LTUS:550:BACT\", \"QUAD:LTUS:560:BACT\", \"QUAD:LTUS:570:BACT\", \"QUAD:LTUS:580:BACT\", \"QUAD:LTUS:620:BACT\", \"QUAD:LTUS:640:BACT\", \"QUAD:LTUS:660:BACT\", \"QUAD:LTUS:665:BACT\", \"QUAD:LTUS:680:BACT\", \"QUAD:LTUS:720:BACT\", \"QUAD:LTUS:725:BACT\", \"QUAD:LTUS:730:BACT\", \"QUAD:LTUS:740:BACT\", \"QUAD:LTUS:750:BACT\", \"QUAD:LTUS:760:BACT\", \"QUAD:LTUS:772:BACT\", \"QUAD:LTUS:780:BACT\", \"QUAD:LTUS:820:BACT\", \"QUAD:LTUS:840:BACT\", \"QUAD:LTUS:860:BACT\", \"QUAD:LTUS:880:BACT\"]\n",
    "outputPvs = ['BPMS:LTUS:120:X1H', 'BPMS:LTUS:150:X1H', 'BPMS:LTUS:180:X1H', 'BPMS:LTUS:235:X1H', 'BPMS:LTUS:300:X1H', 'BPMS:LTUS:345:X1H', 'BPMS:LTUS:370:X1H', 'BPMS:LTUS:450:X1H', 'BPMS:LTUS:470:X1H', 'BPMS:LTUS:500:X1H', 'BPMS:LTUS:510:X1H', 'BPMS:LTUS:540:X1H', 'BPMS:LTUS:560:X1H', 'BPMS:LTUS:570:X1H', 'BPMS:LTUS:580:X1H', 'BPMS:LTUS:620:X1H', 'BPMS:LTUS:640:X1H', 'BPMS:LTUS:660:X1H', 'BPMS:LTUS:680:X1H', 'BPMS:LTUS:740:X1H', 'BPMS:LTUS:750:X1H', 'BPMS:LTUS:820:X1H', 'BPMS:LTUS:840:X1H', 'BPMS:LTUS:860:X1H', 'BPMS:LTUS:880:X1H', 'BPMS:LTUS:120:Y1H', 'BPMS:LTUS:150:Y1H', 'BPMS:LTUS:180:Y1H', 'BPMS:LTUS:235:Y1H', 'BPMS:LTUS:300:Y1H', 'BPMS:LTUS:345:Y1H', 'BPMS:LTUS:370:Y1H', 'BPMS:LTUS:450:Y1H', 'BPMS:LTUS:470:Y1H', 'BPMS:LTUS:500:Y1H', 'BPMS:LTUS:510:Y1H', 'BPMS:LTUS:540:Y1H', 'BPMS:LTUS:560:Y1H', 'BPMS:LTUS:570:Y1H', 'BPMS:LTUS:580:Y1H', 'BPMS:LTUS:620:Y1H', 'BPMS:LTUS:640:Y1H', 'BPMS:LTUS:660:Y1H', 'BPMS:LTUS:680:Y1H', 'BPMS:LTUS:740:Y1H', 'BPMS:LTUS:750:Y1H', 'BPMS:LTUS:820:Y1H', 'BPMS:LTUS:840:Y1H', 'BPMS:LTUS:860:Y1H', 'BPMS:LTUS:880:Y1H']\n",
    "print(\"Input PVs:\",len(inputPvs))\n",
    "print(\"Output PVs:\",len(outputPvs))"
   ]
  },
  {
   "cell_type": "markdown",
   "id": "207cb088-8ed2-4d29-a408-1b5d0559d384",
   "metadata": {},
   "source": [
    "## Seperate input and output into dataframes"
   ]
  },
  {
   "cell_type": "code",
   "execution_count": 8,
   "id": "3d158985-bd14-46e7-a099-fa804d7f74e1",
   "metadata": {
    "tags": []
   },
   "outputs": [
    {
     "data": {
      "text/plain": [
       "(1697935, 73)"
      ]
     },
     "execution_count": 8,
     "metadata": {},
     "output_type": "execute_result"
    }
   ],
   "source": [
    "input_df = fullDF[inputPvs]\n",
    "# input_df\n",
    "input_df = input_df.to_numpy()\n",
    "# input_df\n",
    "inputscaler = MinMaxScaler()\n",
    "input_df = inputscaler.fit_transform(input_df)\n",
    "input_df.shape\n",
    "# input_df"
   ]
  },
  {
   "cell_type": "code",
   "execution_count": 9,
   "id": "42c15452-c1d7-4a38-900e-9cc017798020",
   "metadata": {
    "tags": []
   },
   "outputs": [],
   "source": [
    "output_df = fullDF[outputPvs]\n",
    "# output_df"
   ]
  },
  {
   "cell_type": "markdown",
   "id": "2166d545-6eb7-406e-a707-5fbf19de8a74",
   "metadata": {},
   "source": [
    "## Create Custom Scaler for output df"
   ]
  },
  {
   "cell_type": "code",
   "execution_count": 10,
   "id": "15347574-0737-4892-a855-17cee55d5876",
   "metadata": {
    "tags": []
   },
   "outputs": [],
   "source": [
    "def custom_scale_dataframe(df, column_limits):\n",
    "    scaled_df = df.copy()\n",
    "    \n",
    "    for column, (min_limit, max_limit) in column_limits.items():\n",
    "        if column in df.columns:\n",
    "            scaled_df[column] = (df[column] - min_limit) / (max_limit - min_limit)\n",
    "    \n",
    "    return scaled_df"
   ]
  },
  {
   "cell_type": "code",
   "execution_count": 11,
   "id": "3d87c4f7-2ad0-4787-ace3-7e7d2dfeff75",
   "metadata": {},
   "outputs": [],
   "source": [
    "column_limits = {\n",
    "    'BPMS_LTUS_120_X1H': (-4.827219, 4.117475),\n",
    "    'BPMS_LTUS_150_X1H': (-4.670366, 4.160087),\n",
    "    'BPMS_LTUS_180_X1H': (-1.61531, 0.580029),\n",
    "    'BPMS_LTUS_235_X1H': (-4.827219, 3.323006),\n",
    "    'BPMS_LTUS_300_X1H': (-4.670366, 1.356171),\n",
    "    'BPMS_LTUS_345_X1H': (-1.33319, 0.918294),\n",
    "    'BPMS_LTUS_370_X1H': (-1.708888, 4.117475),\n",
    "    'BPMS_LTUS_450_X1H': (-4.641845, 0.346073),\n",
    "    'BPMS_LTUS_470_X1H': (-0.996765, 1.353984),\n",
    "    'BPMS_LTUS_500_X1H': (-2.395545, 2.80548),\n",
    "    'BPMS_LTUS_510_X1H': (-3.538317, 4.160087),\n",
    "    'BPMS_LTUS_540_X1H': (-0.610118, 0.580029),\n",
    "    'BPMS_LTUS_560_X1H': (-0.73015, 0.531605),\n",
    "    'BPMS_LTUS_570_X1H': (-0.458181, 1.382308),\n",
    "    'BPMS_LTUS_580_X1H': (-0.618446, 0.356522),\n",
    "    'BPMS_LTUS_620_X1H': (-0.547083, 1.28978),\n",
    "    'BPMS_LTUS_640_X1H': (-0.635806, 0.298985),\n",
    "    'BPMS_LTUS_660_X1H': (-0.890536, 0.201593),\n",
    "    'BPMS_LTUS_680_X1H': (-0.472103, 0.628052),\n",
    "    'BPMS_LTUS_740_X1H': (-1.45062, 1.242294),\n",
    "    'BPMS_LTUS_750_X1H': (-0.681022, 0.951346),\n",
    "    'BPMS_LTUS_820_X1H': (-0.99279, 0.945927),\n",
    "    'BPMS_LTUS_840_X1H': (-1.011758, 0.687809),\n",
    "    'BPMS_LTUS_860_X1H': (-1.162863, 0.815839),\n",
    "    'BPMS_LTUS_880_X1H': (-0.907198, 0.806334),\n",
    "    'BPMS_LTUS_120_Y1H': (-1.96247, 2.150131),\n",
    "    'BPMS_LTUS_150_Y1H': (-1.076272, 1.588754),\n",
    "    'BPMS_LTUS_180_Y1H': (-1.329813, 0.167812),\n",
    "    'BPMS_LTUS_235_Y1H': (-0.362183, 3.323006),\n",
    "    'BPMS_LTUS_300_Y1H': (-2.537684, 0.00258),\n",
    "    'BPMS_LTUS_345_Y1H': (-1.283295, 2.037522),\n",
    "    'BPMS_LTUS_370_Y1H': (-0.654882, 1.560715),\n",
    "    'BPMS_LTUS_450_Y1H': (-0.914182, 1.466992),\n",
    "    'BPMS_LTUS_470_Y1H': (-1.96247, 1.018785),\n",
    "    'BPMS_LTUS_500_Y1H': (-1.331524, 2.80548),\n",
    "    'BPMS_LTUS_510_Y1H': (-0.871627, 4.160087),\n",
    "    'BPMS_LTUS_540_Y1H': (-1.922738, 0.580029),\n",
    "    'BPMS_LTUS_560_Y1H': (-2.229401, 0.531605),\n",
    "    'BPMS_LTUS_570_Y1H': (-0.779045, 1.382308),\n",
    "    'BPMS_LTUS_580_Y1H': (-0.981595, 0.356522),\n",
    "    'BPMS_LTUS_620_Y1H': (-0.4033, 1.28978),\n",
    "    'BPMS_LTUS_640_Y1H': (-0.987313, 0.298985),\n",
    "    'BPMS_LTUS_660_Y1H': (-0.703766, 0.201593),\n",
    "    'BPMS_LTUS_680_Y1H': (-0.472103, 0.628052),\n",
    "    'BPMS_LTUS_740_Y1H': (-0.542543, 1.242294),\n",
    "    'BPMS_LTUS_750_Y1H': (-1.090887, 0.951346),\n",
    "    'BPMS_LTUS_820_Y1H': (-0.822775, 0.945927),\n",
    "    'BPMS_LTUS_840_Y1H': (-0.979512, 0.687809),\n",
    "    'BPMS_LTUS_860_Y1H': (-1.107637, 0.815839),\n",
    "    'BPMS_LTUS_880_Y1H': (-1.414454, 0.806334)\n",
    "}"
   ]
  },
  {
   "cell_type": "code",
   "execution_count": 13,
   "id": "360d9d8f-9741-4d7e-a9d8-2e6ff39921d3",
   "metadata": {
    "tags": []
   },
   "outputs": [
    {
     "data": {
      "text/plain": [
       "(50, 50)"
      ]
     },
     "execution_count": 13,
     "metadata": {},
     "output_type": "execute_result"
    }
   ],
   "source": [
    "len(output_df.columns), len(column_limits)"
   ]
  },
  {
   "cell_type": "code",
   "execution_count": 14,
   "id": "68d72adc-5834-4bdc-8b46-4de3c4180fa5",
   "metadata": {
    "tags": []
   },
   "outputs": [],
   "source": [
    "data = output_df"
   ]
  },
  {
   "cell_type": "code",
   "execution_count": 15,
   "id": "42c03c1f-80d4-47ee-a1cc-b2b9922e2a5e",
   "metadata": {
    "tags": []
   },
   "outputs": [
    {
     "name": "stdout",
     "output_type": "stream",
     "text": [
      "BPMS_LTUS_120_X1H -4.827219 4.117475\n",
      "BPMS_LTUS_150_X1H -4.670366 4.160087\n",
      "BPMS_LTUS_180_X1H -1.61531 0.580029\n",
      "BPMS_LTUS_235_X1H -4.827219 3.323006\n",
      "BPMS_LTUS_300_X1H -4.670366 1.356171\n",
      "BPMS_LTUS_345_X1H -1.33319 0.918294\n",
      "BPMS_LTUS_370_X1H -1.708888 4.117475\n",
      "BPMS_LTUS_450_X1H -4.641845 0.346073\n",
      "BPMS_LTUS_470_X1H -0.996765 1.353984\n",
      "BPMS_LTUS_500_X1H -2.395545 2.80548\n",
      "BPMS_LTUS_510_X1H -3.538317 4.160087\n",
      "BPMS_LTUS_540_X1H -0.610118 0.580029\n",
      "BPMS_LTUS_560_X1H -0.73015 0.531605\n",
      "BPMS_LTUS_570_X1H -0.458181 1.382308\n",
      "BPMS_LTUS_580_X1H -0.618446 0.356522\n",
      "BPMS_LTUS_620_X1H -0.547083 1.28978\n",
      "BPMS_LTUS_640_X1H -0.635806 0.298985\n",
      "BPMS_LTUS_660_X1H -0.890536 0.201593\n",
      "BPMS_LTUS_680_X1H -0.472103 0.628052\n",
      "BPMS_LTUS_740_X1H -1.45062 1.242294\n",
      "BPMS_LTUS_750_X1H -0.681022 0.951346\n",
      "BPMS_LTUS_820_X1H -0.99279 0.945927\n",
      "BPMS_LTUS_840_X1H -1.011758 0.687809\n",
      "BPMS_LTUS_860_X1H -1.162863 0.815839\n",
      "BPMS_LTUS_880_X1H -0.907198 0.806334\n",
      "BPMS_LTUS_120_Y1H -1.96247 2.150131\n",
      "BPMS_LTUS_150_Y1H -1.076272 1.588754\n",
      "BPMS_LTUS_180_Y1H -1.329813 0.167812\n",
      "BPMS_LTUS_235_Y1H -0.362183 3.323006\n",
      "BPMS_LTUS_300_Y1H -2.537684 0.00258\n",
      "BPMS_LTUS_345_Y1H -1.283295 2.037522\n",
      "BPMS_LTUS_370_Y1H -0.654882 1.560715\n",
      "BPMS_LTUS_450_Y1H -0.914182 1.466992\n",
      "BPMS_LTUS_470_Y1H -1.96247 1.018785\n",
      "BPMS_LTUS_500_Y1H -1.331524 2.80548\n",
      "BPMS_LTUS_510_Y1H -0.871627 4.160087\n",
      "BPMS_LTUS_540_Y1H -1.922738 0.580029\n",
      "BPMS_LTUS_560_Y1H -2.229401 0.531605\n",
      "BPMS_LTUS_570_Y1H -0.779045 1.382308\n",
      "BPMS_LTUS_580_Y1H -0.981595 0.356522\n",
      "BPMS_LTUS_620_Y1H -0.4033 1.28978\n",
      "BPMS_LTUS_640_Y1H -0.987313 0.298985\n",
      "BPMS_LTUS_660_Y1H -0.703766 0.201593\n",
      "BPMS_LTUS_680_Y1H -0.472103 0.628052\n",
      "BPMS_LTUS_740_Y1H -0.542543 1.242294\n",
      "BPMS_LTUS_750_Y1H -1.090887 0.951346\n",
      "BPMS_LTUS_820_Y1H -0.822775 0.945927\n",
      "BPMS_LTUS_840_Y1H -0.979512 0.687809\n",
      "BPMS_LTUS_860_Y1H -1.107637 0.815839\n",
      "BPMS_LTUS_880_Y1H -1.414454 0.806334\n"
     ]
    }
   ],
   "source": [
    "for column, (min_limit, max_limit) in column_limits.items():\n",
    "        print(column, min_limit, max_limit)"
   ]
  },
  {
   "cell_type": "code",
   "execution_count": 16,
   "id": "93c9453a-9de0-41fe-8bbf-ffb5d07a136a",
   "metadata": {
    "tags": []
   },
   "outputs": [],
   "source": [
    "df = pd.DataFrame(data)"
   ]
  },
  {
   "cell_type": "code",
   "execution_count": 17,
   "id": "058c712a-f826-4f94-8741-a18669a7d5c6",
   "metadata": {
    "tags": []
   },
   "outputs": [
    {
     "data": {
      "text/html": [
       "<div>\n",
       "<style scoped>\n",
       "    .dataframe tbody tr th:only-of-type {\n",
       "        vertical-align: middle;\n",
       "    }\n",
       "\n",
       "    .dataframe tbody tr th {\n",
       "        vertical-align: top;\n",
       "    }\n",
       "\n",
       "    .dataframe thead th {\n",
       "        text-align: right;\n",
       "    }\n",
       "</style>\n",
       "<table border=\"1\" class=\"dataframe\">\n",
       "  <thead>\n",
       "    <tr style=\"text-align: right;\">\n",
       "      <th></th>\n",
       "      <th>BPMS:LTUS:120:X1H</th>\n",
       "      <th>BPMS:LTUS:150:X1H</th>\n",
       "      <th>BPMS:LTUS:180:X1H</th>\n",
       "      <th>BPMS:LTUS:235:X1H</th>\n",
       "      <th>BPMS:LTUS:300:X1H</th>\n",
       "      <th>BPMS:LTUS:345:X1H</th>\n",
       "      <th>BPMS:LTUS:370:X1H</th>\n",
       "      <th>BPMS:LTUS:450:X1H</th>\n",
       "      <th>BPMS:LTUS:470:X1H</th>\n",
       "      <th>BPMS:LTUS:500:X1H</th>\n",
       "      <th>...</th>\n",
       "      <th>BPMS:LTUS:620:Y1H</th>\n",
       "      <th>BPMS:LTUS:640:Y1H</th>\n",
       "      <th>BPMS:LTUS:660:Y1H</th>\n",
       "      <th>BPMS:LTUS:680:Y1H</th>\n",
       "      <th>BPMS:LTUS:740:Y1H</th>\n",
       "      <th>BPMS:LTUS:750:Y1H</th>\n",
       "      <th>BPMS:LTUS:820:Y1H</th>\n",
       "      <th>BPMS:LTUS:840:Y1H</th>\n",
       "      <th>BPMS:LTUS:860:Y1H</th>\n",
       "      <th>BPMS:LTUS:880:Y1H</th>\n",
       "    </tr>\n",
       "  </thead>\n",
       "  <tbody>\n",
       "    <tr>\n",
       "      <th>1614686781000</th>\n",
       "      <td>0.057369</td>\n",
       "      <td>-0.066416</td>\n",
       "      <td>-0.068274</td>\n",
       "      <td>2.013584</td>\n",
       "      <td>-1.061672</td>\n",
       "      <td>-1.168847</td>\n",
       "      <td>-1.345522</td>\n",
       "      <td>-1.342532</td>\n",
       "      <td>0.396019</td>\n",
       "      <td>-0.385447</td>\n",
       "      <td>...</td>\n",
       "      <td>0.081574</td>\n",
       "      <td>-0.388519</td>\n",
       "      <td>0.024542</td>\n",
       "      <td>0.123215</td>\n",
       "      <td>0.255312</td>\n",
       "      <td>-0.029176</td>\n",
       "      <td>-0.754132</td>\n",
       "      <td>-0.920574</td>\n",
       "      <td>-1.065490</td>\n",
       "      <td>-1.381211</td>\n",
       "    </tr>\n",
       "    <tr>\n",
       "      <th>1614686792000</th>\n",
       "      <td>0.006342</td>\n",
       "      <td>-0.051062</td>\n",
       "      <td>-0.050861</td>\n",
       "      <td>2.100156</td>\n",
       "      <td>-1.054196</td>\n",
       "      <td>-1.197440</td>\n",
       "      <td>-1.416482</td>\n",
       "      <td>-1.339365</td>\n",
       "      <td>0.411168</td>\n",
       "      <td>-0.377852</td>\n",
       "      <td>...</td>\n",
       "      <td>0.069327</td>\n",
       "      <td>-0.424184</td>\n",
       "      <td>0.009931</td>\n",
       "      <td>0.113676</td>\n",
       "      <td>0.264643</td>\n",
       "      <td>-0.012710</td>\n",
       "      <td>-0.739264</td>\n",
       "      <td>-0.908223</td>\n",
       "      <td>-1.051875</td>\n",
       "      <td>-1.367935</td>\n",
       "    </tr>\n",
       "    <tr>\n",
       "      <th>1614686793000</th>\n",
       "      <td>0.049302</td>\n",
       "      <td>-0.049259</td>\n",
       "      <td>-0.059594</td>\n",
       "      <td>3.288915</td>\n",
       "      <td>-1.073946</td>\n",
       "      <td>-1.172078</td>\n",
       "      <td>-1.338817</td>\n",
       "      <td>-1.323101</td>\n",
       "      <td>0.410051</td>\n",
       "      <td>-0.365048</td>\n",
       "      <td>...</td>\n",
       "      <td>0.092214</td>\n",
       "      <td>-0.371535</td>\n",
       "      <td>0.029579</td>\n",
       "      <td>0.125250</td>\n",
       "      <td>0.249571</td>\n",
       "      <td>-0.043525</td>\n",
       "      <td>-0.757154</td>\n",
       "      <td>-0.919364</td>\n",
       "      <td>-1.068223</td>\n",
       "      <td>-1.380300</td>\n",
       "    </tr>\n",
       "    <tr>\n",
       "      <th>1614686794000</th>\n",
       "      <td>0.024548</td>\n",
       "      <td>-0.045046</td>\n",
       "      <td>-0.057914</td>\n",
       "      <td>3.507655</td>\n",
       "      <td>-1.102677</td>\n",
       "      <td>-1.161824</td>\n",
       "      <td>-1.302179</td>\n",
       "      <td>-1.305273</td>\n",
       "      <td>0.418482</td>\n",
       "      <td>-0.358582</td>\n",
       "      <td>...</td>\n",
       "      <td>0.085862</td>\n",
       "      <td>-0.382025</td>\n",
       "      <td>0.028701</td>\n",
       "      <td>0.125641</td>\n",
       "      <td>0.254153</td>\n",
       "      <td>-0.041541</td>\n",
       "      <td>-0.763009</td>\n",
       "      <td>-0.927409</td>\n",
       "      <td>-1.072004</td>\n",
       "      <td>-1.390729</td>\n",
       "    </tr>\n",
       "    <tr>\n",
       "      <th>1614686795000</th>\n",
       "      <td>0.042844</td>\n",
       "      <td>-0.051459</td>\n",
       "      <td>-0.061674</td>\n",
       "      <td>3.504178</td>\n",
       "      <td>-1.086265</td>\n",
       "      <td>-1.159833</td>\n",
       "      <td>-1.313536</td>\n",
       "      <td>-1.304668</td>\n",
       "      <td>0.411411</td>\n",
       "      <td>-0.355487</td>\n",
       "      <td>...</td>\n",
       "      <td>0.086317</td>\n",
       "      <td>-0.377257</td>\n",
       "      <td>0.030934</td>\n",
       "      <td>0.126694</td>\n",
       "      <td>0.255299</td>\n",
       "      <td>-0.035130</td>\n",
       "      <td>-0.771315</td>\n",
       "      <td>-0.937547</td>\n",
       "      <td>-1.083597</td>\n",
       "      <td>-1.400562</td>\n",
       "    </tr>\n",
       "  </tbody>\n",
       "</table>\n",
       "<p>5 rows × 50 columns</p>\n",
       "</div>"
      ],
      "text/plain": [
       "               BPMS:LTUS:120:X1H  BPMS:LTUS:150:X1H  BPMS:LTUS:180:X1H  \\\n",
       "1614686781000           0.057369          -0.066416          -0.068274   \n",
       "1614686792000           0.006342          -0.051062          -0.050861   \n",
       "1614686793000           0.049302          -0.049259          -0.059594   \n",
       "1614686794000           0.024548          -0.045046          -0.057914   \n",
       "1614686795000           0.042844          -0.051459          -0.061674   \n",
       "\n",
       "               BPMS:LTUS:235:X1H  BPMS:LTUS:300:X1H  BPMS:LTUS:345:X1H  \\\n",
       "1614686781000           2.013584          -1.061672          -1.168847   \n",
       "1614686792000           2.100156          -1.054196          -1.197440   \n",
       "1614686793000           3.288915          -1.073946          -1.172078   \n",
       "1614686794000           3.507655          -1.102677          -1.161824   \n",
       "1614686795000           3.504178          -1.086265          -1.159833   \n",
       "\n",
       "               BPMS:LTUS:370:X1H  BPMS:LTUS:450:X1H  BPMS:LTUS:470:X1H  \\\n",
       "1614686781000          -1.345522          -1.342532           0.396019   \n",
       "1614686792000          -1.416482          -1.339365           0.411168   \n",
       "1614686793000          -1.338817          -1.323101           0.410051   \n",
       "1614686794000          -1.302179          -1.305273           0.418482   \n",
       "1614686795000          -1.313536          -1.304668           0.411411   \n",
       "\n",
       "               BPMS:LTUS:500:X1H  ...  BPMS:LTUS:620:Y1H  BPMS:LTUS:640:Y1H  \\\n",
       "1614686781000          -0.385447  ...           0.081574          -0.388519   \n",
       "1614686792000          -0.377852  ...           0.069327          -0.424184   \n",
       "1614686793000          -0.365048  ...           0.092214          -0.371535   \n",
       "1614686794000          -0.358582  ...           0.085862          -0.382025   \n",
       "1614686795000          -0.355487  ...           0.086317          -0.377257   \n",
       "\n",
       "               BPMS:LTUS:660:Y1H  BPMS:LTUS:680:Y1H  BPMS:LTUS:740:Y1H  \\\n",
       "1614686781000           0.024542           0.123215           0.255312   \n",
       "1614686792000           0.009931           0.113676           0.264643   \n",
       "1614686793000           0.029579           0.125250           0.249571   \n",
       "1614686794000           0.028701           0.125641           0.254153   \n",
       "1614686795000           0.030934           0.126694           0.255299   \n",
       "\n",
       "               BPMS:LTUS:750:Y1H  BPMS:LTUS:820:Y1H  BPMS:LTUS:840:Y1H  \\\n",
       "1614686781000          -0.029176          -0.754132          -0.920574   \n",
       "1614686792000          -0.012710          -0.739264          -0.908223   \n",
       "1614686793000          -0.043525          -0.757154          -0.919364   \n",
       "1614686794000          -0.041541          -0.763009          -0.927409   \n",
       "1614686795000          -0.035130          -0.771315          -0.937547   \n",
       "\n",
       "               BPMS:LTUS:860:Y1H  BPMS:LTUS:880:Y1H  \n",
       "1614686781000          -1.065490          -1.381211  \n",
       "1614686792000          -1.051875          -1.367935  \n",
       "1614686793000          -1.068223          -1.380300  \n",
       "1614686794000          -1.072004          -1.390729  \n",
       "1614686795000          -1.083597          -1.400562  \n",
       "\n",
       "[5 rows x 50 columns]"
      ]
     },
     "execution_count": 17,
     "metadata": {},
     "output_type": "execute_result"
    }
   ],
   "source": [
    "scaled_df = custom_scale_dataframe(df, column_limits)\n",
    "scaled_df.head()"
   ]
  },
  {
   "cell_type": "code",
   "execution_count": 18,
   "id": "5e6b2ee5-a83a-40cf-ad7d-12a0f1705dce",
   "metadata": {
    "tags": []
   },
   "outputs": [
    {
     "name": "stdout",
     "output_type": "stream",
     "text": [
      "BPMS:LTUS:120:X1H    -1.580332\n",
      "BPMS:LTUS:150:X1H    -2.492443\n",
      "BPMS:LTUS:180:X1H    -1.981816\n",
      "BPMS:LTUS:235:X1H   -11.509878\n",
      "BPMS:LTUS:300:X1H    -6.595763\n",
      "BPMS:LTUS:345:X1H    -2.312697\n",
      "BPMS:LTUS:370:X1H    -5.743663\n",
      "BPMS:LTUS:450:X1H    -5.370964\n",
      "BPMS:LTUS:470:X1H    -1.222565\n",
      "BPMS:LTUS:500:X1H    -2.511434\n",
      "BPMS:LTUS:510:X1H    -3.703485\n",
      "BPMS:LTUS:540:X1H    -1.085675\n",
      "BPMS:LTUS:560:X1H    -1.033779\n",
      "BPMS:LTUS:570:X1H    -1.323402\n",
      "BPMS:LTUS:580:X1H    -1.140075\n",
      "BPMS:LTUS:620:X1H    -1.517953\n",
      "BPMS:LTUS:640:X1H    -1.589509\n",
      "BPMS:LTUS:660:X1H    -2.271512\n",
      "BPMS:LTUS:680:X1H    -1.179148\n",
      "BPMS:LTUS:740:X1H    -2.789460\n",
      "BPMS:LTUS:750:X1H    -1.824447\n",
      "BPMS:LTUS:820:X1H    -2.271705\n",
      "BPMS:LTUS:840:X1H    -2.399593\n",
      "BPMS:LTUS:860:X1H    -2.645141\n",
      "BPMS:LTUS:880:X1H    -2.087286\n",
      "BPMS:LTUS:120:Y1H    -1.710255\n",
      "BPMS:LTUS:150:Y1H    -4.526138\n",
      "BPMS:LTUS:180:Y1H    -4.783427\n",
      "BPMS:LTUS:235:Y1H    -0.520709\n",
      "BPMS:LTUS:300:Y1H    -3.688816\n",
      "BPMS:LTUS:345:Y1H    -3.476856\n",
      "BPMS:LTUS:370:Y1H    -0.970676\n",
      "BPMS:LTUS:450:Y1H    -1.348836\n",
      "BPMS:LTUS:470:Y1H    -3.161047\n",
      "BPMS:LTUS:500:Y1H    -3.713355\n",
      "BPMS:LTUS:510:Y1H    -2.171007\n",
      "BPMS:LTUS:540:Y1H    -1.983391\n",
      "BPMS:LTUS:560:Y1H    -2.255765\n",
      "BPMS:LTUS:570:Y1H    -0.806430\n",
      "BPMS:LTUS:580:Y1H    -1.121856\n",
      "BPMS:LTUS:620:Y1H    -0.939553\n",
      "BPMS:LTUS:640:Y1H    -2.231637\n",
      "BPMS:LTUS:660:Y1H    -1.553591\n",
      "BPMS:LTUS:680:Y1H    -2.212306\n",
      "BPMS:LTUS:740:Y1H    -2.434202\n",
      "BPMS:LTUS:750:Y1H    -3.099428\n",
      "BPMS:LTUS:820:Y1H    -1.053804\n",
      "BPMS:LTUS:840:Y1H    -1.463911\n",
      "BPMS:LTUS:860:Y1H    -1.994261\n",
      "BPMS:LTUS:880:Y1H    -2.687510\n",
      "dtype: float64 BPMS:LTUS:120:X1H     1.504012\n",
      "BPMS:LTUS:150:X1H     2.308020\n",
      "BPMS:LTUS:180:X1H     1.163710\n",
      "BPMS:LTUS:235:X1H    10.727926\n",
      "BPMS:LTUS:300:X1H     2.582124\n",
      "BPMS:LTUS:345:X1H     1.607481\n",
      "BPMS:LTUS:370:X1H     6.371442\n",
      "BPMS:LTUS:450:X1H     1.166142\n",
      "BPMS:LTUS:470:X1H     1.803899\n",
      "BPMS:LTUS:500:X1H     2.859565\n",
      "BPMS:LTUS:510:X1H     4.223580\n",
      "BPMS:LTUS:540:X1H     0.799167\n",
      "BPMS:LTUS:560:X1H     0.904407\n",
      "BPMS:LTUS:570:X1H     1.841548\n",
      "BPMS:LTUS:580:X1H     0.698208\n",
      "BPMS:LTUS:620:X1H     1.583023\n",
      "BPMS:LTUS:640:X1H     0.585390\n",
      "BPMS:LTUS:660:X1H     2.469434\n",
      "BPMS:LTUS:680:X1H     2.442628\n",
      "BPMS:LTUS:740:X1H     2.576975\n",
      "BPMS:LTUS:750:X1H     1.745950\n",
      "BPMS:LTUS:820:X1H     1.467518\n",
      "BPMS:LTUS:840:X1H     1.312623\n",
      "BPMS:LTUS:860:X1H     1.458117\n",
      "BPMS:LTUS:880:X1H     1.738193\n",
      "BPMS:LTUS:120:Y1H     1.866511\n",
      "BPMS:LTUS:150:Y1H     1.568972\n",
      "BPMS:LTUS:180:Y1H     4.640263\n",
      "BPMS:LTUS:235:Y1H     1.221567\n",
      "BPMS:LTUS:300:Y1H     1.604765\n",
      "BPMS:LTUS:345:Y1H     9.749231\n",
      "BPMS:LTUS:370:Y1H     2.294877\n",
      "BPMS:LTUS:450:Y1H     2.090442\n",
      "BPMS:LTUS:470:Y1H     2.804161\n",
      "BPMS:LTUS:500:Y1H     3.128604\n",
      "BPMS:LTUS:510:Y1H     1.681203\n",
      "BPMS:LTUS:540:Y1H     1.707915\n",
      "BPMS:LTUS:560:Y1H     2.136920\n",
      "BPMS:LTUS:570:Y1H     0.966439\n",
      "BPMS:LTUS:580:Y1H     2.117124\n",
      "BPMS:LTUS:620:Y1H     1.200232\n",
      "BPMS:LTUS:640:Y1H     1.386335\n",
      "BPMS:LTUS:660:Y1H     1.241570\n",
      "BPMS:LTUS:680:Y1H     1.898936\n",
      "BPMS:LTUS:740:Y1H     1.571543\n",
      "BPMS:LTUS:750:Y1H     2.113795\n",
      "BPMS:LTUS:820:Y1H     2.153920\n",
      "BPMS:LTUS:840:Y1H     1.667395\n",
      "BPMS:LTUS:860:Y1H     1.355852\n",
      "BPMS:LTUS:880:Y1H     1.034576\n",
      "dtype: float64\n"
     ]
    }
   ],
   "source": [
    "print(scaled_df.min(), scaled_df.max())"
   ]
  },
  {
   "cell_type": "code",
   "execution_count": 19,
   "id": "66af08cd-5187-4741-a5ce-ea234b531d7c",
   "metadata": {
    "tags": []
   },
   "outputs": [],
   "source": [
    "scaled_outputs_np = scaled_df.to_numpy()"
   ]
  },
  {
   "cell_type": "code",
   "execution_count": 20,
   "id": "09fb108b-eb6d-4f4a-be86-67c0c4c6d0e9",
   "metadata": {
    "tags": []
   },
   "outputs": [],
   "source": [
    "inputs = torch.tensor(input_df, dtype = torch.float32)\n",
    "outputs = torch.tensor(scaled_outputs_np, dtype = torch.float32)"
   ]
  },
  {
   "cell_type": "code",
   "execution_count": 21,
   "id": "d193c63d-515b-4ade-baa9-073d7f940826",
   "metadata": {
    "tags": []
   },
   "outputs": [
    {
     "data": {
      "text/plain": [
       "(torch.Size([1697935, 73]), torch.Size([1697935, 50]))"
      ]
     },
     "execution_count": 21,
     "metadata": {},
     "output_type": "execute_result"
    }
   ],
   "source": [
    "inputs.shape, outputs.shape"
   ]
  },
  {
   "cell_type": "code",
   "execution_count": 22,
   "id": "940adcbe-c4a5-4c11-b030-6d5939ba14db",
   "metadata": {
    "tags": []
   },
   "outputs": [],
   "source": [
    "dataset = TensorDataset(inputs, outputs)"
   ]
  },
  {
   "cell_type": "code",
   "execution_count": 23,
   "id": "05dec531-a753-472e-867f-93b6f0106a14",
   "metadata": {
    "tags": []
   },
   "outputs": [],
   "source": [
    "dl = DataLoader(dataset, batch_size = 128, shuffle = True)"
   ]
  },
  {
   "cell_type": "code",
   "execution_count": 24,
   "id": "5730273d-31a4-49fc-b3a7-a07b8387f8e6",
   "metadata": {
    "tags": []
   },
   "outputs": [
    {
     "name": "stdout",
     "output_type": "stream",
     "text": [
      "torch.Size([128, 73])\n",
      "torch.Size([128, 50])\n"
     ]
    }
   ],
   "source": [
    "xb,yb = next(iter(dl))\n",
    "print(xb.shape)\n",
    "print(yb.shape)"
   ]
  },
  {
   "cell_type": "code",
   "execution_count": 25,
   "id": "4cf09c64-3d27-4aac-b051-cd444e76dbb6",
   "metadata": {
    "tags": []
   },
   "outputs": [],
   "source": [
    "val_percent = 0.05 \n",
    "val_size = int(num_rows * val_percent)\n",
    "train_size = num_rows - val_size\n",
    "\n",
    "\n",
    "train_ds, val_ds = random_split(dataset,[train_size, val_size])"
   ]
  },
  {
   "cell_type": "code",
   "execution_count": 26,
   "id": "66d9bb47-4a64-4133-b536-f7d318c4ab93",
   "metadata": {
    "tags": []
   },
   "outputs": [],
   "source": [
    "batch_size = 128"
   ]
  },
  {
   "cell_type": "code",
   "execution_count": 27,
   "id": "a8dc961b-c447-46bc-8c02-96355ca238bb",
   "metadata": {
    "tags": []
   },
   "outputs": [],
   "source": [
    "train_loader = DataLoader(train_ds, batch_size = batch_size, shuffle=True)\n",
    "val_loader = DataLoader(val_ds , batch_size = batch_size)"
   ]
  },
  {
   "cell_type": "code",
   "execution_count": 28,
   "id": "ff38b883-c92a-4aa2-a05b-45ec36036578",
   "metadata": {
    "tags": []
   },
   "outputs": [
    {
     "name": "stdout",
     "output_type": "stream",
     "text": [
      "inputs: tensor([[0.4032, 0.6062, 0.8968,  ..., 0.5230, 0.1970, 0.4801],\n",
      "        [0.4431, 0.9451, 0.9241,  ..., 0.4909, 0.2794, 0.4127],\n",
      "        [0.5624, 0.1957, 0.9004,  ..., 0.5553, 0.1177, 0.5237],\n",
      "        ...,\n",
      "        [0.4032, 0.6062, 0.8968,  ..., 0.5230, 0.1970, 0.4801],\n",
      "        [0.4738, 0.5193, 0.9958,  ..., 0.4674, 0.3382, 0.3754],\n",
      "        [0.4296, 0.5243, 0.7571,  ..., 0.4967, 0.2647, 0.4221]])\n",
      "outputs tensor([[ 0.1579,  0.0737, -0.3316,  ..., -0.2361, -0.1640, -0.3122],\n",
      "        [-0.0421,  0.4757, -0.8001,  ..., -0.1549,  0.0937,  0.0310],\n",
      "        [-0.1254,  0.3150, -1.3783,  ..., -0.1659, -0.3086, -0.5635],\n",
      "        ...,\n",
      "        [ 0.2567, -0.1308, -0.3686,  ..., -0.1947, -0.1697, -0.3276],\n",
      "        [-0.3850,  0.2802, -0.3200,  ...,  0.0848,  0.0731, -0.1459],\n",
      "        [ 0.3854,  0.7932, -0.3596,  ...,  0.1957,  0.2346,  0.0920]])\n"
     ]
    }
   ],
   "source": [
    "for xb, yb in train_loader:\n",
    "    print(\"inputs:\", xb)\n",
    "    print(\"outputs\", yb)\n",
    "    break"
   ]
  },
  {
   "cell_type": "code",
   "execution_count": 29,
   "id": "b0e0392f-cbb9-43a4-bea0-c678e99dcdfe",
   "metadata": {
    "tags": []
   },
   "outputs": [
    {
     "name": "stdout",
     "output_type": "stream",
     "text": [
      "73 50\n"
     ]
    }
   ],
   "source": [
    "input_size = len(inputPvs)\n",
    "hidden_size = 512\n",
    "output_size = len(outputPvs)\n",
    "print(input_size, output_size)"
   ]
  },
  {
   "cell_type": "markdown",
   "id": "0e96e8e4-577b-43ff-9779-77a50eb4f8ee",
   "metadata": {},
   "source": [
    "## Model"
   ]
  },
  {
   "cell_type": "code",
   "execution_count": 30,
   "id": "e0409ae0-f748-4819-a53e-cae25ebabc38",
   "metadata": {
    "tags": []
   },
   "outputs": [],
   "source": [
    "class mymodel(nn.Module):\n",
    "    def __init__(self, input_size, hidden_size, output_size):\n",
    "        super().__init__()\n",
    "       \n",
    "        self.linear1 = nn.Linear(input_size, hidden_size)\n",
    "        \n",
    "        self.linear2 = nn.Linear(hidden_size, hidden_size)\n",
    "        self.linear3 = nn.Linear(hidden_size, hidden_size)\n",
    "       \n",
    "        self.linear4 = nn.Linear(hidden_size, hidden_size)\n",
    "        self.linear5 = nn.Linear(hidden_size, hidden_size)\n",
    "        \n",
    "        self.linear6 = nn.Linear(hidden_size, hidden_size)\n",
    "        self.linear7 = nn.Linear(hidden_size, output_size)\n",
    "        \n",
    "    def forward(self, xb):\n",
    "        out = self.linear1(xb)\n",
    "        out = F.relu(out)\n",
    "      \n",
    "        out = self.linear2(out)\n",
    "        out = F.relu(out)\n",
    "        out = self.linear3(out)\n",
    "        out = F.relu(out)\n",
    "      \n",
    "        out = self.linear4(out)\n",
    "        out = F.relu(out)\n",
    "        out = self.linear5(out)\n",
    "        out = F.relu(out)\n",
    "      \n",
    "        out = self.linear6(out)\n",
    "        out = F.relu(out)\n",
    "        out = self.linear7(out)\n",
    "    \n",
    "        return out\n",
    "\n",
    "    def training_step(self, batch):\n",
    "        inputs, targets = batch\n",
    "        \n",
    "        out = self(inputs)\n",
    "        \n",
    "        loss = F.mse_loss(out,targets)                          \n",
    "        return loss\n",
    "\n",
    "    def validation_step(self, batch):\n",
    "        inputs, targets = batch\n",
    "        \n",
    "        out = self(inputs)\n",
    "        \n",
    "        loss = F.mse_loss(out,targets)                           \n",
    "        return {'val_loss': loss.detach()}\n",
    "\n",
    "    def validation_epoch_end(self, outputs):\n",
    "        batch_losses = [x['val_loss'] for x in outputs]\n",
    "        epoch_loss = torch.stack(batch_losses).mean() \n",
    "        epoch_rmse = np.sqrt(epoch_loss.item())\n",
    "        return {'val_loss': epoch_loss.item(), 'rmse_loss': epoch_rmse}\n",
    "\n",
    "    def epoch_end(self, epoch, result):\n",
    "        print(\"Epoch [{}], mse_loss: {:}, rmse_loss: {:}\".format(epoch, result['mse_loss'], result['rmse_loss']))\n",
    "        "
   ]
  },
  {
   "cell_type": "code",
   "execution_count": 31,
   "id": "46c68159-b561-4ccc-b4db-b63ba48dc17e",
   "metadata": {
    "tags": []
   },
   "outputs": [],
   "source": [
    "def evaluate(model, val_loader):\n",
    "    outputs = [model.validation_step(batch) for batch in val_loader]\n",
    "    return model.validation_epoch_end(outputs)\n",
    "\n",
    "def fit(epochs, lr, model, train_loader, val_loader, opt_func=torch.optim.Adam):\n",
    "    history = []\n",
    "    optimizer = opt_func(model.parameters(), lr)\n",
    "    for epoch in range(epochs):\n",
    "        \n",
    "        for batch in train_loader:\n",
    "            loss = model.training_step(batch)\n",
    "            loss.backward()\n",
    "            optimizer.step()\n",
    "            optimizer.zero_grad()\n",
    "        \n",
    "        result = evaluate(model, val_loader)\n",
    "        model.epoch_end(epoch, result, epochs)\n",
    "        history.append(result)\n",
    "    return history"
   ]
  },
  {
   "cell_type": "code",
   "execution_count": 32,
   "id": "152579a5-b1ce-46c6-8e4d-1040cbc499e3",
   "metadata": {
    "tags": []
   },
   "outputs": [],
   "source": [
    "model = mymodel(input_size, hidden_size, output_size)"
   ]
  },
  {
   "cell_type": "code",
   "execution_count": 33,
   "id": "fdde8191-a96a-4acb-843b-c4ec1d16521b",
   "metadata": {
    "tags": []
   },
   "outputs": [
    {
     "name": "stdout",
     "output_type": "stream",
     "text": [
      "{'val_loss': 0.4514051675796509, 'rmse_loss': 0.671866926987518}\n"
     ]
    }
   ],
   "source": [
    "result = evaluate(model, val_loader)\n",
    "print(result)"
   ]
  },
  {
   "cell_type": "code",
   "execution_count": 34,
   "id": "56e71e9d-0367-43ca-a766-509de4582aba",
   "metadata": {
    "tags": []
   },
   "outputs": [
    {
     "name": "stdout",
     "output_type": "stream",
     "text": [
      "Epoch: 0 \t Training Loss: 0.01897832192480564 \t Val_losses: 0.010544151067733765\n",
      "Epoch: 1 \t Training Loss: 0.009625403210520744 \t Val_losses: 0.009822274558246136\n",
      "Epoch: 2 \t Training Loss: 0.008871540427207947 \t Val_losses: 0.009020509198307991\n",
      "Epoch: 3 \t Training Loss: 0.00851618405431509 \t Val_losses: 0.008513224311172962\n",
      "Epoch: 4 \t Training Loss: 0.008343631401658058 \t Val_losses: 0.008038843981921673\n",
      "Epoch: 5 \t Training Loss: 0.008139755576848984 \t Val_losses: 0.007535966113209724\n",
      "Epoch: 6 \t Training Loss: 0.007994253188371658 \t Val_losses: 0.0073158638551831245\n",
      "Epoch: 7 \t Training Loss: 0.007866831496357918 \t Val_losses: 0.0075441887602210045\n",
      "Epoch: 8 \t Training Loss: 0.007796093355864286 \t Val_losses: 0.00750640919432044\n",
      "Epoch: 9 \t Training Loss: 0.007694845553487539 \t Val_losses: 0.00772683322429657\n",
      "Epoch: 10 \t Training Loss: 0.0076550887897610664 \t Val_losses: 0.006948638241738081\n",
      "Epoch: 11 \t Training Loss: 0.007582081947475672 \t Val_losses: 0.007662980817258358\n",
      "Epoch: 12 \t Training Loss: 0.007529864087700844 \t Val_losses: 0.007501468528062105\n",
      "Epoch: 13 \t Training Loss: 0.007498886436223984 \t Val_losses: 0.007093643769621849\n",
      "Epoch: 14 \t Training Loss: 0.007456221152096987 \t Val_losses: 0.008349656127393246\n",
      "Epoch: 15 \t Training Loss: 0.007421210873872042 \t Val_losses: 0.007343099918216467\n",
      "Early stopping after 16 epochs with no improvement.\n"
     ]
    }
   ],
   "source": [
    "lr = 0.001\n",
    "num_epochs = 300\n",
    "model = mymodel(input_size, hidden_size, output_size)\n",
    "opt = torch.optim.Adam(model.parameters(), lr=lr)\n",
    "\n",
    "losses = []\n",
    "val_losses = []\n",
    "patience = 5\n",
    "best_val_loss = float('inf')  \n",
    "counter = 0  \n",
    "\n",
    "for epoch in range(num_epochs):\n",
    "    batch_losses = []\n",
    "    model.train()\n",
    "    for xb, yb in dl:\n",
    "        pred = model(xb)\n",
    "        opt.zero_grad()\n",
    "        loss = F.mse_loss(pred, yb)\n",
    "        loss.backward()\n",
    "        opt.step()\n",
    "        temploss = loss.detach().item()\n",
    "        batch_losses.append(temploss)\n",
    "\n",
    "    epoch_loss = torch.tensor(batch_losses).mean().item()\n",
    "    losses.append(epoch_loss)\n",
    "    model.eval()\n",
    "    batch_losses = []\n",
    "    for xb, yb in val_loader:\n",
    "        pred = model(xb)\n",
    "        loss = F.mse_loss(pred, yb)\n",
    "        temploss = loss.detach().item()\n",
    "        batch_losses.append(temploss)\n",
    "    epoch_loss = torch.tensor(batch_losses).mean().item()\n",
    "    val_losses.append(epoch_loss)\n",
    "    print(f\"Epoch: {epoch} \\t Training Loss: {losses[-1]} \\t Val_losses: {val_losses[-1]}\")\n",
    "    \n",
    "    if val_losses[-1] < best_val_loss:\n",
    "        best_val_loss = val_losses[-1]\n",
    "        counter = 0\n",
    "    else:\n",
    "        counter += 1\n",
    " \n",
    "    if counter >= patience:\n",
    "        print(f\"Early stopping after {epoch + 1} epochs with no improvement.\")\n",
    "        break\n",
    "    \n",
    "# plt.plot(losses)\n",
    "# plt.plot(val_losses)"
   ]
  },
  {
   "cell_type": "code",
   "execution_count": 35,
   "id": "efd79551-7ab5-4767-91dc-d358777df09a",
   "metadata": {},
   "outputs": [
    {
     "data": {
      "text/plain": [
       "[<matplotlib.lines.Line2D at 0x158c20d50>]"
      ]
     },
     "execution_count": 35,
     "metadata": {},
     "output_type": "execute_result"
    },
    {
     "data": {
      "image/png": "[encoded data removed]",
      "text/plain": [
       "<Figure size 640x480 with 1 Axes>"
      ]
     },
     "metadata": {},
     "output_type": "display_data"
    }
   ],
   "source": [
    "plt.plot(losses[50:])"
   ]
  },
  {
   "cell_type": "markdown",
   "id": "1bb3b6b2-402a-4abe-b2be-482fa7a00f4e",
   "metadata": {},
   "source": [
    "## RMSE and MAE "
   ]
  },
  {
   "cell_type": "code",
   "execution_count": 36,
   "id": "9d63737a-b882-4a9a-853d-c49d58683c88",
   "metadata": {
    "tags": []
   },
   "outputs": [],
   "source": [
    "def custom_unscale_tensor(scaled_tensor, Ymin, Ymax):\n",
    "    # Unscale the tensor\n",
    "    unscaled_tensor = scaled_tensor * (Ymax - Ymin) + Ymin\n",
    "    return unscaled_tensor"
   ]
  },
  {
   "cell_type": "code",
   "execution_count": 38,
   "id": "b6969a54-b352-4cf6-8179-39d237691769",
   "metadata": {},
   "outputs": [],
   "source": [
    "Ymin = np.array([-4.827219, -4.670366, -1.61531, -4.827219, -4.670366, -1.33319, -1.708888, -4.641845, -0.996765, -2.395545, -3.538317, -0.610118, -0.73015, -0.458181, -0.618446, -0.547083, -0.635806, -0.890536, -0.472103, -1.45062, -0.681022, -0.99279, -1.011758, -1.162863, -0.907198, -1.96247, -1.076272, -1.329813, -0.362183, -2.537684, -1.283295, -0.654882, -0.914182, -1.96247, -1.331524, -0.871627, -1.922738, -2.229401, -0.779045, -0.981595, -0.4033, -0.987313, -0.703766, -0.472103, -0.542543, -1.090887, -0.822775, -0.979512, -1.107637, -1.414454])\n",
    "Ymax = np.array([4.117475, 4.160087, 0.580029, 3.323006, 1.356171, 0.918294, 4.117475, 0.346073, 1.353984, 2.80548, 4.160087, 0.580029, 0.531605, 1.382308, 0.356522, 1.28978, 0.298985, 0.201593, 0.628052, 1.242294, 0.951346, 0.945927, 0.687809, 0.815839, 0.806334, 2.150131, 1.588754, 0.167812, 3.323006, 0.00258, 2.037522, 1.560715, 1.466992, 1.018785, 2.80548, 4.160087, 0.580029, 0.531605, 1.382308, 0.356522, 1.28978, 0.298985, 0.201593, 0.628052, 1.242294, 0.951346, 0.945927, 0.687809, 0.815839, 0.806334])"
   ]
  },
  {
   "cell_type": "code",
   "execution_count": 39,
   "id": "82081dc9-cf25-4727-9769-85c818de853e",
   "metadata": {
    "tags": []
   },
   "outputs": [
    {
     "data": {
      "text/plain": [
       "((50,), (50,))"
      ]
     },
     "execution_count": 39,
     "metadata": {},
     "output_type": "execute_result"
    }
   ],
   "source": [
    "Ymin.shape, Ymax.shape"
   ]
  },
  {
   "cell_type": "code",
   "execution_count": 40,
   "id": "ccd0a57d-baf8-44c1-ae1e-eb66ff2474ee",
   "metadata": {
    "tags": []
   },
   "outputs": [],
   "source": [
    "Ymin = torch.tensor(Ymin, dtype=torch.float32)\n",
    "Ymax = torch.tensor(Ymax, dtype=torch.float32)"
   ]
  },
  {
   "cell_type": "code",
   "execution_count": 41,
   "id": "9d97af8c-f54f-474f-94df-b0bafca4b480",
   "metadata": {
    "tags": []
   },
   "outputs": [],
   "source": [
    "Yscaled = torch.tensor(scaled_df.to_numpy(), dtype=torch.float32)"
   ]
  },
  {
   "cell_type": "code",
   "execution_count": 42,
   "id": "cbcb308a-5188-4994-ac85-ac55b0908969",
   "metadata": {
    "tags": []
   },
   "outputs": [],
   "source": [
    "Yunscaled = Yscaled * (Ymax - Ymin).unsqueeze(0) + Ymin"
   ]
  },
  {
   "cell_type": "code",
   "execution_count": 43,
   "id": "b795c5cb-f749-40b7-8bc4-c8f76d2405db",
   "metadata": {
    "tags": []
   },
   "outputs": [
    {
     "data": {
      "text/plain": [
       "tensor([[-4.3141, -5.2568, -1.7652,  ..., -2.5144, -3.1571, -4.4818],\n",
       "        [-4.7705, -5.1213, -1.7270,  ..., -2.4938, -3.1309, -4.4523],\n",
       "        [-4.3862, -5.1053, -1.7461,  ..., -2.5124, -3.1623, -4.4798],\n",
       "        ...,\n",
       "        [-4.0537, -7.6739, -3.4575,  ..., -0.7638, -0.9353, -1.8027],\n",
       "        [-2.3310, -5.7293, -3.6388,  ..., -0.8235, -0.9719, -1.8612],\n",
       "        [-2.0921, -5.5491, -3.7265,  ..., -0.8498, -0.9949, -1.8763]])"
      ]
     },
     "execution_count": 43,
     "metadata": {},
     "output_type": "execute_result"
    }
   ],
   "source": [
    "Yunscaled"
   ]
  },
  {
   "cell_type": "code",
   "execution_count": 44,
   "id": "74838704-3702-4cda-80ec-80ef62e7f300",
   "metadata": {
    "tags": []
   },
   "outputs": [],
   "source": [
    "predictions = model(inputs)"
   ]
  },
  {
   "cell_type": "code",
   "execution_count": 45,
   "id": "3fe0efc0-b742-4453-ae98-d8e3516aceeb",
   "metadata": {
    "tags": []
   },
   "outputs": [],
   "source": [
    "unscaled_predictions = custom_unscale_tensor(predictions, Ymin, Ymax)"
   ]
  },
  {
   "cell_type": "code",
   "execution_count": 46,
   "id": "3dc6d6b9-76f9-4075-8859-276164a4e89c",
   "metadata": {
    "tags": []
   },
   "outputs": [],
   "source": [
    "unscaled_targets = custom_unscale_tensor(outputs, Ymin, Ymax)"
   ]
  },
  {
   "cell_type": "code",
   "execution_count": 47,
   "id": "b82fa4a9-0719-4342-a4d6-bcf818fb41d9",
   "metadata": {
    "tags": []
   },
   "outputs": [
    {
     "data": {
      "text/plain": [
       "(torch.Size([1697935, 50]), torch.Size([1697935, 50]))"
      ]
     },
     "execution_count": 47,
     "metadata": {},
     "output_type": "execute_result"
    }
   ],
   "source": [
    "unscaled_predictions.shape, unscaled_targets.shape"
   ]
  },
  {
   "cell_type": "code",
   "execution_count": 48,
   "id": "5312a70b-90f3-4311-893a-b58b1d9f3fb8",
   "metadata": {
    "tags": []
   },
   "outputs": [
    {
     "name": "stdout",
     "output_type": "stream",
     "text": [
      "0.15933849\n",
      "0.30808297\n",
      "0.5550522\n"
     ]
    }
   ],
   "source": [
    "mae = mean_absolute_error(unscaled_targets.detach().numpy(), unscaled_predictions.detach().numpy())\n",
    "print(mae)\n",
    "mse = mean_squared_error(unscaled_targets.detach().numpy(), unscaled_predictions.detach().numpy())\n",
    "print(mse)\n",
    "rmse = np.sqrt(mean_squared_error(unscaled_targets.detach().numpy(), unscaled_predictions.detach().numpy()))\n",
    "print(rmse)"
   ]
  },
  {
   "cell_type": "code",
   "execution_count": 50,
   "id": "9b8fea33-2c3d-496c-a784-86dec1e4a7d0",
   "metadata": {},
   "outputs": [],
   "source": [
    "unscaled_predictions_at_index_0 = unscaled_predictions[0].squeeze()\n",
    "unscaled_targets_at_index_0 = unscaled_targets[0].squeeze()"
   ]
  },
  {
   "cell_type": "code",
   "execution_count": 57,
   "id": "9676bf78-f9bc-409a-bebb-cbf1f25b6007",
   "metadata": {},
   "outputs": [
    {
     "data": {
      "image/png": "[encoded data removed]",
      "text/plain": [
       "<Figure size 1000x600 with 1 Axes>"
      ]
     },
     "metadata": {},
     "output_type": "display_data"
    }
   ],
   "source": [
    "targets_to_plot = [0]\n",
    "\n",
    "for target_idx in targets_to_plot:\n",
    "    plt.figure(figsize=(10, 6))\n",
    "    plt.scatter(range(len(unscaled_targets_at_index_0_np)), unscaled_targets_at_index_0_np, label=f'Target {target_idx}', color='red', marker='o')\n",
    "    plt.scatter(range(len(unscaled_predictions_at_index_0_np)), unscaled_predictions_at_index_0_np, label=f'Prediction {target_idx}', color='blue', marker='x')\n",
    "    plt.plot(range(len(unscaled_targets_at_index_0_np)), unscaled_targets_at_index_0_np, linestyle='-', color='red', label='Line for Target')\n",
    "    plt.xlabel('Index')\n",
    "    plt.ylabel('Values')\n",
    "    plt.legend()\n",
    "    plt.title(f'Unscaled Predictions and Targets for Target {target_idx}')\n",
    "\n",
    "plt.show()"
   ]
  },
  {
   "cell_type": "markdown",
   "id": "006b3516-5f95-4366-bfcb-559cbd8ce98c",
   "metadata": {},
   "source": [
    "## Save Model"
   ]
  },
  {
   "cell_type": "code",
   "execution_count": null,
   "id": "b0265294-ea30-433f-844a-19fd27fabfdc",
   "metadata": {
    "tags": []
   },
   "outputs": [],
   "source": [
    "torch.save(model.state_dict(), 'my_LTU_model_3.pth')"
   ]
  },
  {
   "cell_type": "code",
   "execution_count": null,
   "id": "6323670e-ade3-44aa-b128-f80d0344cbb8",
   "metadata": {
    "tags": []
   },
   "outputs": [],
   "source": [
    "# device = torch.device('cpu')\n",
    "# print(device)\n",
    "# to_device(model, device)"
   ]
  },
  {
   "cell_type": "markdown",
   "id": "fd8d634f-76c9-45f1-a961-2ca3669635ba",
   "metadata": {},
   "source": [
    "## Load"
   ]
  },
  {
   "cell_type": "code",
   "execution_count": null,
   "id": "a80497fe-217e-4e68-836c-933a00aea21b",
   "metadata": {
    "tags": []
   },
   "outputs": [],
   "source": [
    "model.load_state_dict(torch.load('my_LTU_model_3.pth'))"
   ]
  },
  {
   "cell_type": "code",
   "execution_count": null,
   "id": "3abcf995-ff4e-45cd-b0f5-e1a68c256a11",
   "metadata": {
    "tags": []
   },
   "outputs": [],
   "source": [
    "model.eval()"
   ]
  },
  {
   "cell_type": "markdown",
   "id": "466dd8da-2137-4145-9014-69c350a96567",
   "metadata": {},
   "source": [
    "## Save Scalers"
   ]
  },
  {
   "cell_type": "code",
   "execution_count": null,
   "id": "2ac6e9f6-e192-4fd2-a197-ed0722715f2e",
   "metadata": {
    "tags": []
   },
   "outputs": [],
   "source": [
    "joblib.dump(inputscaler, 'inputscaler.pkl')\n",
    "joblib.dump(custom_scale_dataframe, 'outputscaler.pkl')\n",
    "joblib.dump(custom_unscale_tensor, 'custom_unscale_tensor.pkl')"
   ]
  },
  {
   "cell_type": "code",
   "execution_count": null,
   "id": "cea6abb5-da60-45ac-b4b3-c0f032757803",
   "metadata": {
    "tags": []
   },
   "outputs": [],
   "source": [
    "inputscaler = joblib.load('inputscaler.pkl')\n",
    "custom_scale_dataframe = joblib.load('outputscaler.pkl')\n",
    "custom_unscale_tensor = joblib.load('custom_unscale_tensor.pkl')"
   ]
  },
  {
   "cell_type": "code",
   "execution_count": null,
   "id": "431dabe1-9695-4db1-9f34-2ceb8460f0fc",
   "metadata": {},
   "outputs": [],
   "source": [
    "loaded_data = inputscaler, custom_scale_dataframe, custom_unscale_tensor\n",
    "print(loaded_data)"
   ]
  }
 ],
 "metadata": {
  "kernelspec": {
   "display_name": "Python 3 (ipykernel)",
   "language": "python",
   "name": "python3"
  },
  "language_info": {
   "codemirror_mode": {
    "name": "ipython",
    "version": 3
   },
   "file_extension": ".py",
   "mimetype": "text/x-python",
   "name": "python",
   "nbconvert_exporter": "python",
   "pygments_lexer": "ipython3",
   "version": "3.9.12"
  },
  "toc-autonumbering": false,
  "toc-showcode": false,
  "toc-showmarkdowntxt": true
 },
 "nbformat": 4,
 "nbformat_minor": 5
}
